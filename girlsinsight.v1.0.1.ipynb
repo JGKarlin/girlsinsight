{
  "cells": [
    {
      "cell_type": "markdown",
      "metadata": {
        "colab_type": "text",
        "id": "view-in-github"
      },
      "source": [
        "<a href=\"https://colab.research.google.com/github/JGKarlin/girlsinsight/blob/main/girlsinsight.v1.0.1.ipynb\" target=\"_parent\"><img src=\"https://colab.research.google.com/assets/colab-badge.svg\" alt=\"Open In Colab\"/></a>"
      ]
    },
    {
      "cell_type": "markdown",
      "metadata": {
        "id": "ul0mkZkE7f7u"
      },
      "source": [
        "# **GirlsInsight**\n",
        "### Version 1.0.1\n",
        "**Created on:** December 31, 2024  \n",
        "**Author:** Jason G. Karlin  \n",
        "**Contact:** [karlin@iii.u-tokyo.ac.jp](mailto:karlin@iii.u-tokyo.ac.jp)"
      ]
    },
    {
      "cell_type": "markdown",
      "metadata": {
        "id": "dJtzZsdF-vlS"
      },
      "source": [
        "## Instructions: Setting Up the Gemini AI API Key\n",
        "\n",
        "To use Gemini AI, follow these steps to generate and store your API key securely:\n",
        "\n",
        "### Step 1: Generate Your API Key\n",
        "1. Open this link in your browser: [Gemini AI API Key Page](https://aistudio.google.com/app/apikey).\n",
        "2. Sign in with your Google account.\n",
        "3. Click on the **\"Generate API Key\"** button.\n",
        "4. Copy the generated API key.\n",
        "\n",
        "### Step 2: Store the API Key in Colab Secrets\n",
        "1. In your Colab notebook, click on the **key icon** in the left-hand sidebar (this opens the Secrets manager).\n",
        "2. Click **\"Add new secret\"**.\n",
        "3. In the **Name** field, type `GEMINI_API_KEY`.\n",
        "4. In the **Value** field, paste your Gemini AI API key.\n",
        "5. Toggle **Notebook** access to enable the key"
      ]
    },
    {
      "cell_type": "markdown",
      "metadata": {
        "id": "AaiD5-KsAZ5M"
      },
      "source": [
        "#### **Test Gemini API Key**"
      ]
    },
    {
      "cell_type": "code",
      "execution_count": null,
      "metadata": {
        "colab": {
          "base_uri": "https://localhost:8080/"
        },
        "id": "Nrq7w5ge-JCb",
        "outputId": "db1d996e-2402-4c9b-8cb8-364c698f9e67"
      },
      "outputs": [],
      "source": [
        "from google.colab import userdata\n",
        "\n",
        "# Retrieve the API key from Colab Secrets\n",
        "stored_gemini_api_key = userdata.get(\"GEMINI_API_KEY\")\n",
        "\n",
        "if stored_gemini_api_key:\n",
        "    print(\"Successfully retrieved Gemini API key from Colab Secrets.\")\n",
        "    headers = {\"Authorization\": f\"Bearer {stored_gemini_api_key}\"}\n",
        "    print(\"You can now use this API key in your Gemini API requests.\")\n",
        "else:\n",
        "    raise ValueError(\"Gemini API key not found in Colab Secrets. Please ensure it is stored manually.\")"
      ]
    },
    {
      "cell_type": "markdown",
      "metadata": {
        "id": "Epo59QBmAvrg"
      },
      "source": [
        "#### **Install Required Python Libraries and dependencies (only need to run once per runtime)**"
      ]
    },
    {
      "cell_type": "code",
      "execution_count": null,
      "metadata": {
        "colab": {
          "base_uri": "https://localhost:8080/"
        },
        "id": "ocGFptNF9x74",
        "outputId": "dfd1d1bc-68d6-468c-cdab-04afc3047277"
      },
      "outputs": [],
      "source": [
        "!pip install anthropic --no-deps\n",
        "!apt-get install -y fonts-noto-cjk\n",
        "!fc-cache -fv\n",
        "!rm -rf ~/.cache/matplotlib\n",
        "\n",
        "# Clone or update repository\n",
        "import os\n",
        "if os.path.exists('/content/girlsinsight'):\n",
        "    !rm -rf /content/girlsinsight\n",
        "!git clone https://github.com/JGKarlin/girlsinsight.git"
      ]
    },
    {
      "cell_type": "markdown",
      "metadata": {
        "id": "SaAyQsH8CLYc"
      },
      "source": [
        "#### **Run the script below**\n",
        "#### * Ensure that the girlsinsight.v1.0.1.colab.py file has been cloned"
      ]
    },
    {
      "cell_type": "code",
      "execution_count": null,
      "metadata": {
        "id": "4YRVP95Q6UGp"
      },
      "outputs": [],
      "source": [
        "%run girlsinsight/girlsinsight.v1.0.1.colab.py"
      ]
    },
    {
      "cell_type": "markdown",
      "metadata": {
        "id": "0x1klv5Qbq7z"
      },
      "source": [
        "#### **Copy contents of output folder to Google Drive**"
      ]
    },
    {
      "cell_type": "code",
      "execution_count": null,
      "metadata": {
        "id": "VKPjh4VZZqHM"
      },
      "outputs": [],
      "source": [
        "from google.colab import drive\n",
        "import shutil\n",
        "import os\n",
        "\n",
        "# Mount Google Drive\n",
        "drive.mount('/content/drive')\n",
        "\n",
        "# Specify the source and destination paths\n",
        "source_folder = '/content/outputs'\n",
        "destination_folder = '/content/drive/MyDrive/GirlsInSight'  # Replace with your desired destination in Google Drive\n",
        "\n",
        "# Create the destination folder if it doesn't exist\n",
        "if not os.path.exists(destination_folder):\n",
        "    os.makedirs(destination_folder)\n",
        "\n",
        "# Copy the contents of the output folder to Google Drive\n",
        "try:\n",
        "    shutil.copytree(source_folder, destination_folder, dirs_exist_ok=True)\n",
        "    print(f\"Successfully copied contents of '{source_folder}' to '{destination_folder}'\")\n",
        "except FileNotFoundError:\n",
        "    print(f\"Error: Source folder '{source_folder}' not found.\")\n",
        "except Exception as e:\n",
        "    print(f\"An error occurred: {e}\")\n",
        "\n",
        "# Optional: Unmount Google Drive after copying (recommended)\n",
        "drive.flush_and_unmount()\n",
        "print('All changes made in this colab session should now be visible in Drive.')"
      ]
    }
  ],
  "metadata": {
    "colab": {
      "include_colab_link": true,
      "provenance": []
    },
    "kernelspec": {
      "display_name": "Python 3",
      "name": "python3"
    },
    "language_info": {
      "name": "python"
    }
  },
  "nbformat": 4,
  "nbformat_minor": 0
}
